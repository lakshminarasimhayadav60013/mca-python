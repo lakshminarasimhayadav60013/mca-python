{
 "cells": [
  {
   "cell_type": "code",
   "execution_count": 1,
   "id": "44c4cf7a",
   "metadata": {},
   "outputs": [],
   "source": [
    "x=45\n",
    "y=76"
   ]
  },
  {
   "cell_type": "code",
   "execution_count": null,
   "id": "68577b00",
   "metadata": {},
   "outputs": [
    {
     "data": {
      "text/plain": [
       "False"
      ]
     },
     "execution_count": 2,
     "metadata": {},
     "output_type": "execute_result"
    }
   ],
   "source": [
    "x==76"
   ]
  },
  {
   "cell_type": "code",
   "execution_count": 3,
   "id": "08e0b313",
   "metadata": {},
   "outputs": [
    {
     "data": {
      "text/plain": [
       "True"
      ]
     },
     "execution_count": 3,
     "metadata": {},
     "output_type": "execute_result"
    }
   ],
   "source": [
    "x=100\n",
    "1<= x <=100"
   ]
  },
  {
   "cell_type": "code",
   "execution_count": 4,
   "id": "ed8f0679",
   "metadata": {},
   "outputs": [
    {
     "data": {
      "text/plain": [
       "False"
      ]
     },
     "execution_count": 4,
     "metadata": {},
     "output_type": "execute_result"
    }
   ],
   "source": [
    "x=100\n",
    "1< x < 100 "
   ]
  },
  {
   "cell_type": "code",
   "execution_count": 6,
   "id": "f20c67a4",
   "metadata": {},
   "outputs": [
    {
     "data": {
      "text/plain": [
       "False"
      ]
     },
     "execution_count": 6,
     "metadata": {},
     "output_type": "execute_result"
    }
   ],
   "source": [
    "x < y and x > a"
   ]
  },
  {
   "cell_type": "code",
   "execution_count": 8,
   "id": "e9586ded",
   "metadata": {},
   "outputs": [
    {
     "data": {
      "text/plain": [
       "True"
      ]
     },
     "execution_count": 8,
     "metadata": {},
     "output_type": "execute_result"
    }
   ],
   "source": [
    "10 == 5 or 15 == 15"
   ]
  },
  {
   "cell_type": "code",
   "execution_count": 14,
   "id": "c84e9c0d",
   "metadata": {},
   "outputs": [
    {
     "data": {
      "text/plain": [
       "True"
      ]
     },
     "execution_count": 14,
     "metadata": {},
     "output_type": "execute_result"
    }
   ],
   "source": [
    "a=24\n",
    "not (a == 10)"
   ]
  },
  {
   "cell_type": "code",
   "execution_count": null,
   "id": "b838ff49",
   "metadata": {},
   "outputs": [],
   "source": []
  },
  {
   "cell_type": "code",
   "execution_count": null,
   "id": "17c94026",
   "metadata": {},
   "outputs": [],
   "source": []
  }
 ],
 "metadata": {
  "kernelspec": {
   "display_name": "Python 3",
   "language": "python",
   "name": "python3"
  },
  "language_info": {
   "codemirror_mode": {
    "name": "ipython",
    "version": 3
   },
   "file_extension": ".py",
   "mimetype": "text/x-python",
   "name": "python",
   "nbconvert_exporter": "python",
   "pygments_lexer": "ipython3",
   "version": "3.13.6"
  }
 },
 "nbformat": 4,
 "nbformat_minor": 5
}
