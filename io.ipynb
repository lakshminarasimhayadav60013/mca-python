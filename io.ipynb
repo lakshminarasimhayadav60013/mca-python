{
 "cells": [
  {
   "cell_type": "code",
   "execution_count": 8,
   "id": "c64b6dab",
   "metadata": {},
   "outputs": [],
   "source": [
    "name = input()\n"
   ]
  },
  {
   "cell_type": "code",
   "execution_count": 10,
   "id": "d69fcaca",
   "metadata": {},
   "outputs": [
    {
     "data": {
      "text/plain": [
       "'ghjkl'"
      ]
     },
     "execution_count": 10,
     "metadata": {},
     "output_type": "execute_result"
    }
   ],
   "source": [
    "name = input()\n",
    "name"
   ]
  },
  {
   "cell_type": "code",
   "execution_count": 4,
   "id": "9976df26",
   "metadata": {},
   "outputs": [],
   "source": [
    "name = \"narasimha\"\n",
    "city = \"nellore\""
   ]
  },
  {
   "cell_type": "code",
   "execution_count": 11,
   "id": "8fc338e7",
   "metadata": {},
   "outputs": [
    {
     "ename": "NameError",
     "evalue": "name 'pythagoras' is not defined",
     "output_type": "error",
     "traceback": [
      "\u001b[31m---------------------------------------------------------------------------\u001b[39m",
      "\u001b[31mNameError\u001b[39m                                 Traceback (most recent call last)",
      "\u001b[36mCell\u001b[39m\u001b[36m \u001b[39m\u001b[32mIn[11]\u001b[39m\u001b[32m, line 1\u001b[39m\n\u001b[32m----> \u001b[39m\u001b[32m1\u001b[39m \u001b[43mpythagoras\u001b[49m()\n",
      "\u001b[31mNameError\u001b[39m: name 'pythagoras' is not defined"
     ]
    }
   ],
   "source": [
    "pythagoras()"
   ]
  },
  {
   "cell_type": "code",
   "execution_count": null,
   "id": "de9995e9",
   "metadata": {},
   "outputs": [],
   "source": []
  },
  {
   "cell_type": "code",
   "execution_count": null,
   "id": "8e8c07dc",
   "metadata": {},
   "outputs": [
    {
     "ename": "TypeError",
     "evalue": "sum() takes at least 1 positional argument (0 given)",
     "output_type": "error",
     "traceback": [
      "\u001b[31m---------------------------------------------------------------------------\u001b[39m",
      "\u001b[31mTypeError\u001b[39m                                 Traceback (most recent call last)",
      "\u001b[36mCell\u001b[39m\u001b[36m \u001b[39m\u001b[32mIn[12]\u001b[39m\u001b[32m, line 1\u001b[39m\n\u001b[32m----> \u001b[39m\u001b[32m1\u001b[39m \u001b[38;5;28;43msum\u001b[39;49m\u001b[43m(\u001b[49m\u001b[43m)\u001b[49m\n",
      "\u001b[31mTypeError\u001b[39m: sum() takes at least 1 positional argument (0 given)"
     ]
    },
    {
     "ename": "TypeError",
     "evalue": "sum() takes at least 1 positional argument (0 given)",
     "output_type": "error",
     "traceback": [
      "\u001b[31m---------------------------------------------------------------------------\u001b[39m",
      "\u001b[31mTypeError\u001b[39m                                 Traceback (most recent call last)",
      "\u001b[36mCell\u001b[39m\u001b[36m \u001b[39m\u001b[32mIn[14]\u001b[39m\u001b[32m, line 1\u001b[39m\n\u001b[32m----> \u001b[39m\u001b[32m1\u001b[39m \u001b[38;5;28;43msum\u001b[39;49m\u001b[43m(\u001b[49m\u001b[43m)\u001b[49m\n",
      "\u001b[31mTypeError\u001b[39m: sum() takes at least 1 positional argument (0 given)"
     ]
    }
   ],
   "source": [
    "sum()"
   ]
  },
  {
   "cell_type": "code",
   "execution_count": 15,
   "id": "3e67782b",
   "metadata": {},
   "outputs": [
    {
     "name": "stdout",
     "output_type": "stream",
     "text": [
      "narasimha narasimha nellore\n"
     ]
    }
   ],
   "source": [
    "name = input()\n",
    "city =input()\n",
    "addr =input()\n",
    "print(name,city,addr)"
   ]
  },
  {
   "cell_type": "code",
   "execution_count": null,
   "id": "6f78a882",
   "metadata": {},
   "outputs": [],
   "source": []
  },
  {
   "cell_type": "code",
   "execution_count": 16,
   "id": "cd8c33be",
   "metadata": {},
   "outputs": [
    {
     "name": "stdout",
     "output_type": "stream",
     "text": [
      "5.5\n",
      "11.0\n",
      "34.54\n",
      "94.985\n"
     ]
    }
   ],
   "source": [
    "radius = float(input(\"enter radius of circle\"))\n",
    "diameter = radius * 2\n",
    "circumference = 2 * 3.14 *radius\n",
    "area = 3.14 * radius **2\n",
    "\n",
    "print(radius)\n",
    "print(diameter)\n",
    "print(circumference)\n",
    "print(area)"
   ]
  },
  {
   "cell_type": "code",
   "execution_count": 20,
   "id": "f85d6cdf",
   "metadata": {},
   "outputs": [
    {
     "name": "stdout",
     "output_type": "stream",
     "text": [
      "10000\n",
      "5.0\n",
      "3\n",
      "1500.0\n"
     ]
    }
   ],
   "source": [
    "p= int(input(\"enter principle amount\"))\n",
    "r= float(input(\"enter rate of intreset value\"))\n",
    "t= int(input(\"enter time of years\"))\n",
    "si= p*r*t/100\n",
    "print(p)\n",
    "print(r)\n",
    "print(t)\n",
    "print(si)"
   ]
  },
  {
   "cell_type": "code",
   "execution_count": 22,
   "id": "ab7da111",
   "metadata": {},
   "outputs": [
    {
     "name": "stdout",
     "output_type": "stream",
     "text": [
      "this is an example\n",
      "one two three\n",
      "1 2 3 9\n",
      "apple***banana***orange\n",
      "😍❤️😘\n"
     ]
    }
   ],
   "source": [
    "print(\"this is an example\")\n",
    "print(\"one\",\"two\",\"three\")\n",
    "print(\"1\",\"2\",\"3\",4+5)\n",
    "print(\"apple\",\"banana\",\"orange\",sep=\"***\")\n",
    "print(\"😍❤️😘\")"
   ]
  },
  {
   "cell_type": "code",
   "execution_count": null,
   "id": "66f271c1",
   "metadata": {},
   "outputs": [
    {
     "name": "stdout",
     "output_type": "stream",
     "text": [
      "values => 67\n"
     ]
    }
   ],
   "source": [
    "data= int (input(\"enter data values\"))\n",
    "print(f\"values => {data}\")"
   ]
  },
  {
   "cell_type": "code",
   "execution_count": 8,
   "id": "b11c1c9f",
   "metadata": {},
   "outputs": [
    {
     "name": "stdout",
     "output_type": "stream",
     "text": [
      "you see a apple seller\n",
      "you dont purchase apples\n"
     ]
    }
   ],
   "source": [
    "print(\"you see a apple seller\")\n",
    "q = input(\"do you like apples ?\")\n",
    "\n",
    "if q== 'yes':\n",
    "    print('purchase 2kg of apples')\n",
    "if q== 'no':\n",
    "    print('you dont purchase apples')\n",
    "          "
   ]
  },
  {
   "cell_type": "code",
   "execution_count": 1,
   "id": "2bff463a",
   "metadata": {},
   "outputs": [
    {
     "name": "stdout",
     "output_type": "stream",
     "text": [
      "total salary is 59800.0\n"
     ]
    }
   ],
   "source": [
    "salary= 52000\n",
    "if salary > 50000:\n",
    "  da=.15\n",
    "total = salary + salary * da\n",
    "print (f\"total salary is {total}\")"
   ]
  },
  {
   "cell_type": "code",
   "execution_count": null,
   "id": "3e2f7643",
   "metadata": {},
   "outputs": [
    {
     "name": "stdout",
     "output_type": "stream",
     "text": [
      "total salary is 42000\n"
     ]
    }
   ],
   "source": [
    "# solution 1\n",
    "salary= 42000\n",
    "da = 0\n",
    "if salary > 50000:\n",
    "  da=.15\n",
    "total = salary + salary * da\n",
    "print (f\"total salary is {total}\")"
   ]
  },
  {
   "cell_type": "code",
   "execution_count": 3,
   "id": "3a9f4cfe",
   "metadata": {},
   "outputs": [
    {
     "name": "stdout",
     "output_type": "stream",
     "text": [
      "total salary is 42000\n"
     ]
    }
   ],
   "source": [
    "# solution 2 - use if else \n",
    "salary= 42000\n",
    "if salary > 50000:\n",
    "    da=.15\n",
    "    total = salary + salary * da\n",
    "else: \n",
    "    total = salary\n",
    "print (f\"total salary is {total}\")"
   ]
  },
  {
   "cell_type": "code",
   "execution_count": 5,
   "id": "9e9f31b4",
   "metadata": {},
   "outputs": [
    {
     "name": "stdout",
     "output_type": "stream",
     "text": [
      "total salary is 59800.0\n"
     ]
    }
   ],
   "source": [
    "salary= 52000\n",
    "if salary > 50000:\n",
    "    da=.15\n",
    "    total = salary + salary * da\n",
    "    print (f\"total salary is {total}\")\n",
    "else:\n",
    "  total = salary\n",
    "  print (f\"total salary is {total}\")"
   ]
  },
  {
   "cell_type": "code",
   "execution_count": 10,
   "id": "7dd29a62",
   "metadata": {},
   "outputs": [
    {
     "name": "stdout",
     "output_type": "stream",
     "text": [
      "10\n"
     ]
    }
   ],
   "source": [
    "x= int(input())\n",
    "y= int(input())\n",
    "if x>y:\n",
    "    a=x-y\n",
    "else:\n",
    "    a=y-x\n",
    "print(a)"
   ]
  },
  {
   "cell_type": "code",
   "execution_count": 3,
   "id": "32733dc3",
   "metadata": {},
   "outputs": [
    {
     "name": "stdout",
     "output_type": "stream",
     "text": [
      "short movie name:jalsa\n",
      "the end\n"
     ]
    }
   ],
   "source": [
    "name= input(\"enter your fav movie\")\n",
    "if  len(name) > 10:\n",
    "    print(f\"long movie name:{name}\")\n",
    "else:\n",
    "    print(f\"short movie name:{name}\")\n",
    "print(\"the end\")"
   ]
  },
  {
   "cell_type": "code",
   "execution_count": 2,
   "id": "427d5e55",
   "metadata": {},
   "outputs": [
    {
     "name": "stdout",
     "output_type": "stream",
     "text": [
      "long movie name:hari hara veeramalu\n",
      "the end\n"
     ]
    }
   ],
   "source": [
    "name= input(\"enter your fav movie\")\n",
    "if  len(name) > 10:\n",
    "    print(f\"long movie name:{name}\")\n",
    "else:\n",
    "    print(f\"short movie name:{name}\")\n",
    "print(\"the end\")"
   ]
  },
  {
   "cell_type": "code",
   "execution_count": 1,
   "id": "1d85ab1c",
   "metadata": {},
   "outputs": [
    {
     "name": "stdout",
     "output_type": "stream",
     "text": [
      "2 3 5\n"
     ]
    }
   ],
   "source": [
    "a,b,c = 2,3,5\n",
    "print(a,b,c)"
   ]
  },
  {
   "cell_type": "code",
   "execution_count": 3,
   "id": "2c0f4f9e",
   "metadata": {},
   "outputs": [
    {
     "name": "stdout",
     "output_type": "stream",
     "text": [
      "what is the capital of india\n",
      "Your are very correct\n"
     ]
    }
   ],
   "source": [
    "print(\"what is the capital of india\")\n",
    "answer = input(\"answer\")\n",
    "if answer == \"delhi\":\n",
    "    print(\"Your are correct\")\n",
    "if answer == \"new delhi\":\n",
    "    print(\"Your are very correct\")\n",
    "if answer == \"i dont know\":\n",
    "    print(\" U must be sleeping under a rock\")\n",
    "if answer == \"shimla\":\n",
    "    print(\"You must be from britain\")"
   ]
  },
  {
   "cell_type": "code",
   "execution_count": 4,
   "id": "186716f7",
   "metadata": {},
   "outputs": [
    {
     "name": "stdout",
     "output_type": "stream",
     "text": [
      "what is the capital of india\n",
      "Your are correct\n"
     ]
    }
   ],
   "source": [
    "print(\"what is the capital of india\")\n",
    "answer = input(\"answer\")\n",
    "if answer == \"delhi\":\n",
    "    print(\"Your are correct\")\n",
    "if answer == \"new delhi\":\n",
    "    print(\"Your are very correct\")\n",
    "if answer == \"i dont know\":\n",
    "    print(\" U must be sleeping under a rock\")\n",
    "if answer == \"shimla\":\n",
    "    print(\"You must be from britain\")"
   ]
  },
  {
   "cell_type": "code",
   "execution_count": 5,
   "id": "9cfb6c96",
   "metadata": {},
   "outputs": [
    {
     "name": "stdout",
     "output_type": "stream",
     "text": [
      "what is the capital of india\n",
      " U must be sleeping under a rock\n"
     ]
    }
   ],
   "source": [
    "print(\"what is the capital of india\")\n",
    "answer = input(\"answer\")\n",
    "if answer == \"delhi\":\n",
    "    print(\"Your are correct\")\n",
    "if answer == \"new delhi\":\n",
    "    print(\"Your are very correct\")\n",
    "if answer == \"i dont know\":\n",
    "    print(\" U must be sleeping under a rock\")\n",
    "if answer == \"shimla\":\n",
    "    print(\"You must be from britain\")"
   ]
  },
  {
   "cell_type": "code",
   "execution_count": 11,
   "id": "a65e2153",
   "metadata": {},
   "outputs": [
    {
     "name": "stdout",
     "output_type": "stream",
     "text": [
      "Your grade: D\n"
     ]
    }
   ],
   "source": [
    "marks = int(input(\"enter your total marks in 10th:\"))\n",
    "if marks > 90:\n",
    "    print(\"Your grade: A\")\n",
    "if marks > 75:\n",
    "    print(\"Your grade: B\")\n",
    "if marks > 60:\n",
    "    print(\"Your grade: C\")\n",
    "if marks > 40:\n",
    "    print(\"Your grade: D\")\n",
    "if marks < 40:\n",
    "    print(\"Your grade: 🔯🔯\")\n"
   ]
  },
  {
   "cell_type": "code",
   "execution_count": 12,
   "id": "a1e727a6",
   "metadata": {},
   "outputs": [
    {
     "name": "stdout",
     "output_type": "stream",
     "text": [
      "Your grade: 🔯🔯\n"
     ]
    }
   ],
   "source": [
    "marks = int(input(\"enter your total marks in 10th:\"))\n",
    "if marks > 90:\n",
    "    print(\"Your grade: A\")\n",
    "if marks > 75:\n",
    "    print(\"Your grade: B\")\n",
    "if marks > 60:\n",
    "    print(\"Your grade: C\")\n",
    "if marks > 40:\n",
    "    print(\"Your grade: D\")\n",
    "if marks < 40:\n",
    "    print(\"Your grade: 🔯🔯\")"
   ]
  },
  {
   "cell_type": "code",
   "execution_count": 13,
   "id": "332ab1dd",
   "metadata": {},
   "outputs": [
    {
     "name": "stdout",
     "output_type": "stream",
     "text": [
      "Your grade: B\n",
      "Your grade: C\n",
      "Your grade: D\n"
     ]
    }
   ],
   "source": [
    "marks = int(input(\"enter your total marks in 10th:\"))\n",
    "if marks > 90:\n",
    "    print(\"Your grade: A\")\n",
    "if marks > 75:\n",
    "    print(\"Your grade: B\")\n",
    "if marks > 60:\n",
    "    print(\"Your grade: C\")\n",
    "if marks > 40:\n",
    "    print(\"Your grade: D\")\n",
    "if marks < 40:\n",
    "    print(\"Your grade: 🔯🔯\")"
   ]
  },
  {
   "cell_type": "code",
   "execution_count": 14,
   "id": "4cdb1974",
   "metadata": {},
   "outputs": [
    {
     "name": "stdout",
     "output_type": "stream",
     "text": [
      "Your grade: A\n",
      "Your grade: B\n",
      "Your grade: C\n",
      "Your grade: D\n"
     ]
    }
   ],
   "source": [
    "marks = int(input(\"enter your total marks in 10th:\"))\n",
    "if marks > 90:\n",
    "    print(\"Your grade: A\")\n",
    "if marks > 75:\n",
    "    print(\"Your grade: B\")\n",
    "if marks > 60:\n",
    "    print(\"Your grade: C\")\n",
    "if marks > 40:\n",
    "    print(\"Your grade: D\")\n",
    "if marks < 40:\n",
    "    print(\"Your grade: 🔯🔯\")"
   ]
  },
  {
   "cell_type": "code",
   "execution_count": null,
   "id": "59ddd343",
   "metadata": {},
   "outputs": [
    {
     "name": "stdout",
     "output_type": "stream",
     "text": [
      "Your grade: A\n"
     ]
    }
   ],
   "source": [
    "marks = int(input(\"enter your total marks in 10th:\"))\n",
    "if marks > 90:\n",
    "    print(\"Your grade: A\")\n",
    "elif marks > 75:\n",
    "    print(\"Your grade: B\")\n",
    "elif marks > 60:\n",
    "    print(\"Your grade: C\")\n",
    "elif marks > 40:\n",
    "    print(\"Your grade: D\")\n",
    "elif marks < 40:\n",
    "    print(\"Your grade: 🔯🔯\")"
   ]
  },
  {
   "cell_type": "code",
   "execution_count": 16,
   "id": "29016012",
   "metadata": {},
   "outputs": [
    {
     "name": "stdout",
     "output_type": "stream",
     "text": [
      "Your grade: C\n"
     ]
    }
   ],
   "source": [
    "marks = int(input(\"enter your total marks in 10th:\"))\n",
    "if marks > 90:\n",
    "    print(\"Your grade: A\")\n",
    "elif marks > 75:\n",
    "    print(\"Your grade: B\")\n",
    "elif marks > 60:\n",
    "    print(\"Your grade: C\")\n",
    "elif marks > 40:\n",
    "    print(\"Your grade: D\")\n",
    "elif marks < 40:\n",
    "    print(\"Your grade: 🔯🔯\")"
   ]
  },
  {
   "cell_type": "code",
   "execution_count": 17,
   "id": "7e6648f0",
   "metadata": {},
   "outputs": [
    {
     "name": "stdout",
     "output_type": "stream",
     "text": [
      "Your grade: 🔯🔯\n"
     ]
    }
   ],
   "source": [
    "marks = int(input(\"enter your total marks in 10th:\"))\n",
    "if marks > 90:\n",
    "    print(\"Your grade: A\")\n",
    "elif marks > 75:\n",
    "    print(\"Your grade: B\")\n",
    "elif marks > 60:\n",
    "    print(\"Your grade: C\")\n",
    "elif marks > 40:\n",
    "    print(\"Your grade: D\")\n",
    "elif marks < 40:\n",
    "    print(\"Your grade: 🔯🔯\")"
   ]
  },
  {
   "cell_type": "code",
   "execution_count": 19,
   "id": "4b27a1de",
   "metadata": {},
   "outputs": [
    {
     "name": "stdout",
     "output_type": "stream",
     "text": [
      "Your grade: C\n"
     ]
    }
   ],
   "source": [
    "marks = int(input(\"enter your total marks in 10th:\"))\n",
    "if marks > 90 and marks <=100:\n",
    "    print(\"Your grade: A\")\n",
    "if marks > 75 and marks <=90:\n",
    "    print(\"Your grade: B\")\n",
    "if marks > 60 and marks <=75:\n",
    "    print(\"Your grade: C\")\n",
    "if marks > 40 and marks <=60:\n",
    "    print(\"Your grade: D\")\n",
    "if marks < 40:\n",
    "    print(\"Your grade: 🔯🔯\")"
   ]
  },
  {
   "cell_type": "code",
   "execution_count": 22,
   "id": "a59582c9",
   "metadata": {},
   "outputs": [
    {
     "name": "stdout",
     "output_type": "stream",
     "text": [
      "frds salary =>53300\n",
      "frds total =>50635.0\n"
     ]
    }
   ],
   "source": [
    "# salary calculator\n",
    "salary = int(input(\"enter your frds salary:\"))\n",
    "if salary > 100000:\n",
    "    total = salary - salary * .2 # frds tax 20%\n",
    "elif salary >80000:\n",
    "    total = salary - salary * 1 \n",
    "elif salary >50000:\n",
    "    total = salary - salary * .05\n",
    "else :\n",
    "    total = salary + 10000\n",
    "print(f'frds salary =>{salary}')\n",
    "print(f'frds total =>{total}')      \n"
   ]
  }
 ],
 "metadata": {
  "kernelspec": {
   "display_name": "Python 3",
   "language": "python",
   "name": "python3"
  },
  "language_info": {
   "codemirror_mode": {
    "name": "ipython",
    "version": 3
   },
   "file_extension": ".py",
   "mimetype": "text/x-python",
   "name": "python",
   "nbconvert_exporter": "python",
   "pygments_lexer": "ipython3",
   "version": "3.13.6"
  }
 },
 "nbformat": 4,
 "nbformat_minor": 5
}
