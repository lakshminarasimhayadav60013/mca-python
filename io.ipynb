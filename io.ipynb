{
 "cells": [
  {
   "cell_type": "code",
   "execution_count": 8,
   "id": "c64b6dab",
   "metadata": {},
   "outputs": [],
   "source": [
    "name = input()\n"
   ]
  },
  {
   "cell_type": "code",
   "execution_count": 10,
   "id": "d69fcaca",
   "metadata": {},
   "outputs": [
    {
     "data": {
      "text/plain": [
       "'ghjkl'"
      ]
     },
     "execution_count": 10,
     "metadata": {},
     "output_type": "execute_result"
    }
   ],
   "source": [
    "name = input()\n",
    "name"
   ]
  },
  {
   "cell_type": "code",
   "execution_count": 4,
   "id": "9976df26",
   "metadata": {},
   "outputs": [],
   "source": [
    "name = \"narasimha\"\n",
    "city = \"nellore\""
   ]
  },
  {
   "cell_type": "code",
   "execution_count": 11,
   "id": "8fc338e7",
   "metadata": {},
   "outputs": [
    {
     "ename": "NameError",
     "evalue": "name 'pythagoras' is not defined",
     "output_type": "error",
     "traceback": [
      "\u001b[31m---------------------------------------------------------------------------\u001b[39m",
      "\u001b[31mNameError\u001b[39m                                 Traceback (most recent call last)",
      "\u001b[36mCell\u001b[39m\u001b[36m \u001b[39m\u001b[32mIn[11]\u001b[39m\u001b[32m, line 1\u001b[39m\n\u001b[32m----> \u001b[39m\u001b[32m1\u001b[39m \u001b[43mpythagoras\u001b[49m()\n",
      "\u001b[31mNameError\u001b[39m: name 'pythagoras' is not defined"
     ]
    }
   ],
   "source": [
    "pythagoras()"
   ]
  },
  {
   "cell_type": "code",
   "execution_count": null,
   "id": "de9995e9",
   "metadata": {},
   "outputs": [],
   "source": []
  },
  {
   "cell_type": "code",
   "execution_count": null,
   "id": "8e8c07dc",
   "metadata": {},
   "outputs": [
    {
     "ename": "TypeError",
     "evalue": "sum() takes at least 1 positional argument (0 given)",
     "output_type": "error",
     "traceback": [
      "\u001b[31m---------------------------------------------------------------------------\u001b[39m",
      "\u001b[31mTypeError\u001b[39m                                 Traceback (most recent call last)",
      "\u001b[36mCell\u001b[39m\u001b[36m \u001b[39m\u001b[32mIn[12]\u001b[39m\u001b[32m, line 1\u001b[39m\n\u001b[32m----> \u001b[39m\u001b[32m1\u001b[39m \u001b[38;5;28;43msum\u001b[39;49m\u001b[43m(\u001b[49m\u001b[43m)\u001b[49m\n",
      "\u001b[31mTypeError\u001b[39m: sum() takes at least 1 positional argument (0 given)"
     ]
    },
    {
     "ename": "TypeError",
     "evalue": "sum() takes at least 1 positional argument (0 given)",
     "output_type": "error",
     "traceback": [
      "\u001b[31m---------------------------------------------------------------------------\u001b[39m",
      "\u001b[31mTypeError\u001b[39m                                 Traceback (most recent call last)",
      "\u001b[36mCell\u001b[39m\u001b[36m \u001b[39m\u001b[32mIn[14]\u001b[39m\u001b[32m, line 1\u001b[39m\n\u001b[32m----> \u001b[39m\u001b[32m1\u001b[39m \u001b[38;5;28;43msum\u001b[39;49m\u001b[43m(\u001b[49m\u001b[43m)\u001b[49m\n",
      "\u001b[31mTypeError\u001b[39m: sum() takes at least 1 positional argument (0 given)"
     ]
    }
   ],
   "source": [
    "sum()"
   ]
  },
  {
   "cell_type": "code",
   "execution_count": 15,
   "id": "3e67782b",
   "metadata": {},
   "outputs": [
    {
     "name": "stdout",
     "output_type": "stream",
     "text": [
      "narasimha narasimha nellore\n"
     ]
    }
   ],
   "source": [
    "name = input()\n",
    "city =input()\n",
    "addr =input()\n",
    "print(name,city,addr)"
   ]
  },
  {
   "cell_type": "code",
   "execution_count": null,
   "id": "6f78a882",
   "metadata": {},
   "outputs": [],
   "source": []
  },
  {
   "cell_type": "code",
   "execution_count": 16,
   "id": "cd8c33be",
   "metadata": {},
   "outputs": [
    {
     "name": "stdout",
     "output_type": "stream",
     "text": [
      "5.5\n",
      "11.0\n",
      "34.54\n",
      "94.985\n"
     ]
    }
   ],
   "source": [
    "radius = float(input(\"enter radius of circle\"))\n",
    "diameter = radius * 2\n",
    "circumference = 2 * 3.14 *radius\n",
    "area = 3.14 * radius **2\n",
    "\n",
    "print(radius)\n",
    "print(diameter)\n",
    "print(circumference)\n",
    "print(area)"
   ]
  },
  {
   "cell_type": "code",
   "execution_count": 20,
   "id": "f85d6cdf",
   "metadata": {},
   "outputs": [
    {
     "name": "stdout",
     "output_type": "stream",
     "text": [
      "10000\n",
      "5.0\n",
      "3\n",
      "1500.0\n"
     ]
    }
   ],
   "source": [
    "p= int(input(\"enter principle amount\"))\n",
    "r= float(input(\"enter rate of intreset value\"))\n",
    "t= int(input(\"enter time of years\"))\n",
    "si= p*r*t/100\n",
    "print(p)\n",
    "print(r)\n",
    "print(t)\n",
    "print(si)"
   ]
  },
  {
   "cell_type": "code",
   "execution_count": 22,
   "id": "ab7da111",
   "metadata": {},
   "outputs": [
    {
     "name": "stdout",
     "output_type": "stream",
     "text": [
      "this is an example\n",
      "one two three\n",
      "1 2 3 9\n",
      "apple***banana***orange\n",
      "😍❤️😘\n"
     ]
    }
   ],
   "source": [
    "print(\"this is an example\")\n",
    "print(\"one\",\"two\",\"three\")\n",
    "print(\"1\",\"2\",\"3\",4+5)\n",
    "print(\"apple\",\"banana\",\"orange\",sep=\"***\")\n",
    "print(\"😍❤️😘\")"
   ]
  },
  {
   "cell_type": "code",
   "execution_count": null,
   "id": "66f271c1",
   "metadata": {},
   "outputs": [
    {
     "name": "stdout",
     "output_type": "stream",
     "text": [
      "values => 67\n"
     ]
    }
   ],
   "source": [
    "data= int (input(\"enter data values\"))\n",
    "print(f\"values => {data}\")"
   ]
  },
  {
   "cell_type": "code",
   "execution_count": 8,
   "id": "b11c1c9f",
   "metadata": {},
   "outputs": [
    {
     "name": "stdout",
     "output_type": "stream",
     "text": [
      "you see a apple seller\n",
      "you dont purchase apples\n"
     ]
    }
   ],
   "source": [
    "print(\"you see a apple seller\")\n",
    "q = input(\"do you like apples ?\")\n",
    "\n",
    "if q== 'yes':\n",
    "    print('purchase 2kg of apples')\n",
    "if q== 'no':\n",
    "    print('you dont purchase apples')\n",
    "          "
   ]
  },
  {
   "cell_type": "code",
   "execution_count": 1,
   "id": "2bff463a",
   "metadata": {},
   "outputs": [
    {
     "name": "stdout",
     "output_type": "stream",
     "text": [
      "total salary is 59800.0\n"
     ]
    }
   ],
   "source": [
    "salary= 52000\n",
    "if salary > 50000:\n",
    "  da=.15\n",
    "total = salary + salary * da\n",
    "print (f\"total salary is {total}\")"
   ]
  },
  {
   "cell_type": "code",
   "execution_count": null,
   "id": "3e2f7643",
   "metadata": {},
   "outputs": [
    {
     "name": "stdout",
     "output_type": "stream",
     "text": [
      "total salary is 42000\n"
     ]
    }
   ],
   "source": [
    "# solution 1\n",
    "salary= 42000\n",
    "da = 0\n",
    "if salary > 50000:\n",
    "  da=.15\n",
    "total = salary + salary * da\n",
    "print (f\"total salary is {total}\")"
   ]
  },
  {
   "cell_type": "code",
   "execution_count": 3,
   "id": "3a9f4cfe",
   "metadata": {},
   "outputs": [
    {
     "name": "stdout",
     "output_type": "stream",
     "text": [
      "total salary is 42000\n"
     ]
    }
   ],
   "source": [
    "# solution 2 - use if else \n",
    "salary= 42000\n",
    "if salary > 50000:\n",
    "    da=.15\n",
    "    total = salary + salary * da\n",
    "else: \n",
    "    total = salary\n",
    "print (f\"total salary is {total}\")"
   ]
  },
  {
   "cell_type": "code",
   "execution_count": 5,
   "id": "9e9f31b4",
   "metadata": {},
   "outputs": [
    {
     "name": "stdout",
     "output_type": "stream",
     "text": [
      "total salary is 59800.0\n"
     ]
    }
   ],
   "source": [
    "salary= 52000\n",
    "if salary > 50000:\n",
    "    da=.15\n",
    "    total = salary + salary * da\n",
    "    print (f\"total salary is {total}\")\n",
    "else:\n",
    "  total = salary\n",
    "  print (f\"total salary is {total}\")"
   ]
  },
  {
   "cell_type": "code",
   "execution_count": 10,
   "id": "7dd29a62",
   "metadata": {},
   "outputs": [
    {
     "name": "stdout",
     "output_type": "stream",
     "text": [
      "10\n"
     ]
    }
   ],
   "source": [
    "x= int(input())\n",
    "y= int(input())\n",
    "if x>y:\n",
    "    a=x-y\n",
    "else:\n",
    "    a=y-x\n",
    "print(a)"
   ]
  },
  {
   "cell_type": "code",
   "execution_count": 3,
   "id": "32733dc3",
   "metadata": {},
   "outputs": [
    {
     "name": "stdout",
     "output_type": "stream",
     "text": [
      "short movie name:jalsa\n",
      "the end\n"
     ]
    }
   ],
   "source": [
    "name= input(\"enter your fav movie\")\n",
    "if  len(name) > 10:\n",
    "    print(f\"long movie name:{name}\")\n",
    "else:\n",
    "    print(f\"short movie name:{name}\")\n",
    "print(\"the end\")"
   ]
  },
  {
   "cell_type": "code",
   "execution_count": 2,
   "id": "427d5e55",
   "metadata": {},
   "outputs": [
    {
     "name": "stdout",
     "output_type": "stream",
     "text": [
      "long movie name:hari hara veeramalu\n",
      "the end\n"
     ]
    }
   ],
   "source": [
    "name= input(\"enter your fav movie\")\n",
    "if  len(name) > 10:\n",
    "    print(f\"long movie name:{name}\")\n",
    "else:\n",
    "    print(f\"short movie name:{name}\")\n",
    "print(\"the end\")"
   ]
  },
  {
   "cell_type": "code",
   "execution_count": 1,
   "id": "1d85ab1c",
   "metadata": {},
   "outputs": [
    {
     "name": "stdout",
     "output_type": "stream",
     "text": [
      "2 3 5\n"
     ]
    }
   ],
   "source": [
    "a,b,c = 2,3,5\n",
    "print(a,b,c)"
   ]
  },
  {
   "cell_type": "code",
   "execution_count": 3,
   "id": "2c0f4f9e",
   "metadata": {},
   "outputs": [
    {
     "name": "stdout",
     "output_type": "stream",
     "text": [
      "what is the capital of india\n",
      "Your are very correct\n"
     ]
    }
   ],
   "source": [
    "print(\"what is the capital of india\")\n",
    "answer = input(\"answer\")\n",
    "if answer == \"delhi\":\n",
    "    print(\"Your are correct\")\n",
    "if answer == \"new delhi\":\n",
    "    print(\"Your are very correct\")\n",
    "if answer == \"i dont know\":\n",
    "    print(\" U must be sleeping under a rock\")\n",
    "if answer == \"shimla\":\n",
    "    print(\"You must be from britain\")"
   ]
  },
  {
   "cell_type": "code",
   "execution_count": 4,
   "id": "186716f7",
   "metadata": {},
   "outputs": [
    {
     "name": "stdout",
     "output_type": "stream",
     "text": [
      "what is the capital of india\n",
      "Your are correct\n"
     ]
    }
   ],
   "source": [
    "print(\"what is the capital of india\")\n",
    "answer = input(\"answer\")\n",
    "if answer == \"delhi\":\n",
    "    print(\"Your are correct\")\n",
    "if answer == \"new delhi\":\n",
    "    print(\"Your are very correct\")\n",
    "if answer == \"i dont know\":\n",
    "    print(\" U must be sleeping under a rock\")\n",
    "if answer == \"shimla\":\n",
    "    print(\"You must be from britain\")"
   ]
  },
  {
   "cell_type": "code",
   "execution_count": 5,
   "id": "9cfb6c96",
   "metadata": {},
   "outputs": [
    {
     "name": "stdout",
     "output_type": "stream",
     "text": [
      "what is the capital of india\n",
      " U must be sleeping under a rock\n"
     ]
    }
   ],
   "source": [
    "print(\"what is the capital of india\")\n",
    "answer = input(\"answer\")\n",
    "if answer == \"delhi\":\n",
    "    print(\"Your are correct\")\n",
    "if answer == \"new delhi\":\n",
    "    print(\"Your are very correct\")\n",
    "if answer == \"i dont know\":\n",
    "    print(\" U must be sleeping under a rock\")\n",
    "if answer == \"shimla\":\n",
    "    print(\"You must be from britain\")"
   ]
  },
  {
   "cell_type": "code",
   "execution_count": 11,
   "id": "a65e2153",
   "metadata": {},
   "outputs": [
    {
     "name": "stdout",
     "output_type": "stream",
     "text": [
      "Your grade: D\n"
     ]
    }
   ],
   "source": [
    "marks = int(input(\"enter your total marks in 10th:\"))\n",
    "if marks > 90:\n",
    "    print(\"Your grade: A\")\n",
    "if marks > 75:\n",
    "    print(\"Your grade: B\")\n",
    "if marks > 60:\n",
    "    print(\"Your grade: C\")\n",
    "if marks > 40:\n",
    "    print(\"Your grade: D\")\n",
    "if marks < 40:\n",
    "    print(\"Your grade: 🔯🔯\")\n"
   ]
  },
  {
   "cell_type": "code",
   "execution_count": 12,
   "id": "a1e727a6",
   "metadata": {},
   "outputs": [
    {
     "name": "stdout",
     "output_type": "stream",
     "text": [
      "Your grade: 🔯🔯\n"
     ]
    }
   ],
   "source": [
    "marks = int(input(\"enter your total marks in 10th:\"))\n",
    "if marks > 90:\n",
    "    print(\"Your grade: A\")\n",
    "if marks > 75:\n",
    "    print(\"Your grade: B\")\n",
    "if marks > 60:\n",
    "    print(\"Your grade: C\")\n",
    "if marks > 40:\n",
    "    print(\"Your grade: D\")\n",
    "if marks < 40:\n",
    "    print(\"Your grade: 🔯🔯\")"
   ]
  },
  {
   "cell_type": "code",
   "execution_count": 13,
   "id": "332ab1dd",
   "metadata": {},
   "outputs": [
    {
     "name": "stdout",
     "output_type": "stream",
     "text": [
      "Your grade: B\n",
      "Your grade: C\n",
      "Your grade: D\n"
     ]
    }
   ],
   "source": [
    "marks = int(input(\"enter your total marks in 10th:\"))\n",
    "if marks > 90:\n",
    "    print(\"Your grade: A\")\n",
    "if marks > 75:\n",
    "    print(\"Your grade: B\")\n",
    "if marks > 60:\n",
    "    print(\"Your grade: C\")\n",
    "if marks > 40:\n",
    "    print(\"Your grade: D\")\n",
    "if marks < 40:\n",
    "    print(\"Your grade: 🔯🔯\")"
   ]
  },
  {
   "cell_type": "code",
   "execution_count": 14,
   "id": "4cdb1974",
   "metadata": {},
   "outputs": [
    {
     "name": "stdout",
     "output_type": "stream",
     "text": [
      "Your grade: A\n",
      "Your grade: B\n",
      "Your grade: C\n",
      "Your grade: D\n"
     ]
    }
   ],
   "source": [
    "marks = int(input(\"enter your total marks in 10th:\"))\n",
    "if marks > 90:\n",
    "    print(\"Your grade: A\")\n",
    "if marks > 75:\n",
    "    print(\"Your grade: B\")\n",
    "if marks > 60:\n",
    "    print(\"Your grade: C\")\n",
    "if marks > 40:\n",
    "    print(\"Your grade: D\")\n",
    "if marks < 40:\n",
    "    print(\"Your grade: 🔯🔯\")"
   ]
  },
  {
   "cell_type": "code",
   "execution_count": null,
   "id": "59ddd343",
   "metadata": {},
   "outputs": [
    {
     "name": "stdout",
     "output_type": "stream",
     "text": [
      "Your grade: A\n"
     ]
    }
   ],
   "source": [
    "marks = int(input(\"enter your total marks in 10th:\"))\n",
    "if marks > 90:\n",
    "    print(\"Your grade: A\")\n",
    "elif marks > 75:\n",
    "    print(\"Your grade: B\")\n",
    "elif marks > 60:\n",
    "    print(\"Your grade: C\")\n",
    "elif marks > 40:\n",
    "    print(\"Your grade: D\")\n",
    "elif marks < 40:\n",
    "    print(\"Your grade: 🔯🔯\")"
   ]
  },
  {
   "cell_type": "code",
   "execution_count": 16,
   "id": "29016012",
   "metadata": {},
   "outputs": [
    {
     "name": "stdout",
     "output_type": "stream",
     "text": [
      "Your grade: C\n"
     ]
    }
   ],
   "source": [
    "marks = int(input(\"enter your total marks in 10th:\"))\n",
    "if marks > 90:\n",
    "    print(\"Your grade: A\")\n",
    "elif marks > 75:\n",
    "    print(\"Your grade: B\")\n",
    "elif marks > 60:\n",
    "    print(\"Your grade: C\")\n",
    "elif marks > 40:\n",
    "    print(\"Your grade: D\")\n",
    "elif marks < 40:\n",
    "    print(\"Your grade: 🔯🔯\")"
   ]
  },
  {
   "cell_type": "code",
   "execution_count": 17,
   "id": "7e6648f0",
   "metadata": {},
   "outputs": [
    {
     "name": "stdout",
     "output_type": "stream",
     "text": [
      "Your grade: 🔯🔯\n"
     ]
    }
   ],
   "source": [
    "marks = int(input(\"enter your total marks in 10th:\"))\n",
    "if marks > 90:\n",
    "    print(\"Your grade: A\")\n",
    "elif marks > 75:\n",
    "    print(\"Your grade: B\")\n",
    "elif marks > 60:\n",
    "    print(\"Your grade: C\")\n",
    "elif marks > 40:\n",
    "    print(\"Your grade: D\")\n",
    "elif marks < 40:\n",
    "    print(\"Your grade: 🔯🔯\")"
   ]
  },
  {
   "cell_type": "code",
   "execution_count": 19,
   "id": "4b27a1de",
   "metadata": {},
   "outputs": [
    {
     "name": "stdout",
     "output_type": "stream",
     "text": [
      "Your grade: C\n"
     ]
    }
   ],
   "source": [
    "marks = int(input(\"enter your total marks in 10th:\"))\n",
    "if marks > 90 and marks <=100:\n",
    "    print(\"Your grade: A\")\n",
    "if marks > 75 and marks <=90:\n",
    "    print(\"Your grade: B\")\n",
    "if marks > 60 and marks <=75:\n",
    "    print(\"Your grade: C\")\n",
    "if marks > 40 and marks <=60:\n",
    "    print(\"Your grade: D\")\n",
    "if marks < 40:\n",
    "    print(\"Your grade: 🔯🔯\")"
   ]
  },
  {
   "cell_type": "code",
   "execution_count": 22,
   "id": "a59582c9",
   "metadata": {},
   "outputs": [
    {
     "name": "stdout",
     "output_type": "stream",
     "text": [
      "frds salary =>53300\n",
      "frds total =>50635.0\n"
     ]
    }
   ],
   "source": [
    "# salary calculator\n",
    "salary = int(input(\"enter your frds salary:\"))\n",
    "if salary > 100000:\n",
    "    total = salary - salary * .2 # frds tax 20%\n",
    "elif salary >80000:\n",
    "    total = salary - salary * 1 \n",
    "elif salary >50000:\n",
    "    total = salary - salary * .05\n",
    "else :\n",
    "    total = salary + 10000\n",
    "print(f'frds salary =>{salary}')\n",
    "print(f'frds total =>{total}')      \n"
   ]
  },
  {
   "cell_type": "code",
   "execution_count": 2,
   "id": "db46d9aa",
   "metadata": {},
   "outputs": [
    {
     "name": "stdout",
     "output_type": "stream",
     "text": [
      "1\n",
      "3\n",
      "5\n",
      "7\n",
      "9\n",
      "11\n",
      "13\n",
      "15\n",
      "17\n",
      "19\n"
     ]
    }
   ],
   "source": [
    "range(1,10,2)\n",
    "for i in range(1,20,2):\n",
    " print(i)\n"
   ]
  },
  {
   "cell_type": "code",
   "execution_count": 10,
   "id": "84add757",
   "metadata": {},
   "outputs": [
    {
     "name": "stdout",
     "output_type": "stream",
     "text": [
      "0\n",
      "5\n",
      "10\n"
     ]
    }
   ],
   "source": [
    "for i in range(0,15,5):\n",
    "    print(i)"
   ]
  },
  {
   "cell_type": "code",
   "execution_count": 11,
   "id": "9b60f1bf",
   "metadata": {},
   "outputs": [
    {
     "name": "stdout",
     "output_type": "stream",
     "text": [
      "10\n",
      "8\n",
      "6\n",
      "4\n",
      "2\n"
     ]
    }
   ],
   "source": [
    "for i in range(10,0,-2):\n",
    "    print(i)"
   ]
  },
  {
   "cell_type": "code",
   "execution_count": 2,
   "id": "eccb20a0",
   "metadata": {},
   "outputs": [
    {
     "name": "stdout",
     "output_type": "stream",
     "text": [
      "100,102,104,106,108,110,112,114,116,118,120,122,124,126,128,130,132,134,136,138,140,142,144,146,148,150,152,154,156,158,160,162,164,166,168,170,172,174,176,178,180,182,184,186,188,190,192,194,196,198,200,"
     ]
    }
   ],
   "source": [
    "for num in range(100,201,2):\n",
    "    print(num,end=\",\")"
   ]
  },
  {
   "cell_type": "code",
   "execution_count": 8,
   "id": "b96818e3",
   "metadata": {},
   "outputs": [
    {
     "name": "stdout",
     "output_type": "stream",
     "text": [
      "['red', 'blue', 'green']\n",
      "red\n",
      "blue\n",
      "green\n"
     ]
    }
   ],
   "source": [
    "colors=['red','blue','green']\n",
    "print(colors)\n",
    "#formatted output\n",
    "for color in colors:\n",
    "    print(color)"
   ]
  },
  {
   "cell_type": "code",
   "execution_count": 9,
   "id": "d4bd8c65",
   "metadata": {},
   "outputs": [
    {
     "name": "stdout",
     "output_type": "stream",
     "text": [
      "jalasa\n",
      "og\n",
      "hariharaveramallu\n",
      "gabbersing\n",
      "thammudu\n"
     ]
    }
   ],
   "source": [
    "movies= ['jalasa','og','hariharaveramallu','gabbersing','thammudu']\n",
    "for movie in movies:\n",
    "    print(movie)"
   ]
  },
  {
   "cell_type": "code",
   "execution_count": 13,
   "id": "3d70003f",
   "metadata": {},
   "outputs": [
    {
     "name": "stdout",
     "output_type": "stream",
     "text": [
      "1,3,5,7,9,11,13,15,17,19,21,23,25,27,29,31,33,35,37,39,41,43,45,47,49,51,53,55,57,59,61,63,65,67,69,71,73,75,77,79,81,83,85,87,89,91,93,95,97,99,"
     ]
    }
   ],
   "source": [
    "for num in range(1,100,2):\n",
    "    print(num,end=\",\")"
   ]
  },
  {
   "cell_type": "code",
   "execution_count": 1,
   "id": "2cce38eb",
   "metadata": {},
   "outputs": [
    {
     "name": "stdout",
     "output_type": "stream",
     "text": [
      "2\n",
      "4\n",
      "6\n",
      "8\n",
      "10\n"
     ]
    }
   ],
   "source": [
    "for i in range(1,11):\n",
    "    if i%2==0:\n",
    "       print(i) "
   ]
  },
  {
   "cell_type": "code",
   "execution_count": 7,
   "id": "94abdddb",
   "metadata": {},
   "outputs": [
    {
     "name": "stdout",
     "output_type": "stream",
     "text": [
      "1\n",
      "3\n",
      "5\n",
      "7\n",
      "9\n",
      "11\n"
     ]
    }
   ],
   "source": [
    "for i in range (0,12):\n",
    "    if i%2!=0:\n",
    "       print(i)"
   ]
  },
  {
   "cell_type": "code",
   "execution_count": 10,
   "id": "ed83b37f",
   "metadata": {},
   "outputs": [
    {
     "name": "stdout",
     "output_type": "stream",
     "text": [
      "odd number\n",
      "odd number\n",
      "odd number\n",
      "odd number\n",
      "144\n",
      "odd number\n"
     ]
    }
   ],
   "source": [
    "nums=[1,5,11,3,12,15]\n",
    "for i in nums:\n",
    "    if i%2==0:\n",
    "        s=i**2\n",
    "        print(s)\n",
    "    else:\n",
    "        print(\"odd number\")"
   ]
  },
  {
   "cell_type": "code",
   "execution_count": 11,
   "id": "ed150dbe",
   "metadata": {},
   "outputs": [
    {
     "name": "stdout",
     "output_type": "stream",
     "text": [
      "1\n",
      "27\n",
      "125\n",
      "343\n",
      "729\n"
     ]
    }
   ],
   "source": [
    "#display cubes of odd num\n",
    "num=[1,3,5,7,9]\n",
    "for i in num:\n",
    "    if i%2!=0:\n",
    "        s=i**3\n",
    "        print(s)\n",
    "    else:\n",
    "        prinr(\"even numbers\")"
   ]
  },
  {
   "cell_type": "code",
   "execution_count": 12,
   "id": "1191b011",
   "metadata": {},
   "outputs": [
    {
     "name": "stdout",
     "output_type": "stream",
     "text": [
      "the area for3is3is28.26\n",
      "the area for5is5is78.5\n",
      "the area for6is6is113.04\n",
      "the area for11is11is379.94\n",
      "the area for10is10is314.0\n"
     ]
    }
   ],
   "source": [
    "radius=[3,5,6,11,10]\n",
    "for r in radius:\n",
    "    area=3.14*r**2\n",
    "    print(f\"the area for{r}is{r}is{area}\")"
   ]
  },
  {
   "cell_type": "code",
   "execution_count": 16,
   "id": "9c216a59",
   "metadata": {},
   "outputs": [
    {
     "name": "stdout",
     "output_type": "stream",
     "text": [
      "bgmi\n"
     ]
    }
   ],
   "source": [
    "videogames=['bgmi','vicecity','8ballpool','chess','freefire','subwaysurfers','templerun','ludo']\n",
    "for name in videogames:\n",
    "    if name.startswith('b'):\n",
    "        print(name)"
   ]
  },
  {
   "cell_type": "code",
   "execution_count": 19,
   "id": "3a61d878",
   "metadata": {},
   "outputs": [
    {
     "name": "stdout",
     "output_type": "stream",
     "text": [
      "books->The final empire\n",
      "books->The wll of ascension\n",
      "books->The alloy of law\n",
      "books->Hero of ages\n",
      "books->The way of kings\n"
     ]
    }
   ],
   "source": [
    "books=[\"The final empire\",\"Warbreaker\",\"Elntris\",\"The wll of ascension\",\"The alloy of law\",\"Hero of ages\",\"The way of kings\"]\n",
    "for book in books:\n",
    "    if \"The\"in book or\"of\"in book:\n",
    "        print(f\"books->{book}\")"
   ]
  },
  {
   "cell_type": "code",
   "execution_count": 5,
   "id": "92ec2995",
   "metadata": {},
   "outputs": [
    {
     "name": "stdout",
     "output_type": "stream",
     "text": [
      "165\n"
     ]
    }
   ],
   "source": [
    "total=0\n",
    "for num in range(10,21):\n",
    "    total=total+num\n",
    "print(total)"
   ]
  },
  {
   "cell_type": "code",
   "execution_count": 4,
   "id": "91980624",
   "metadata": {},
   "outputs": [
    {
     "name": "stdout",
     "output_type": "stream",
     "text": [
      "6704425728000\n"
     ]
    }
   ],
   "source": [
    "total=1\n",
    "for num in range(10,21):\n",
    "    total=total*num\n",
    "print(total)"
   ]
  },
  {
   "cell_type": "code",
   "execution_count": 19,
   "id": "41e2c635",
   "metadata": {},
   "outputs": [
    {
     "name": "stdout",
     "output_type": "stream",
     "text": [
      "53\n"
     ]
    }
   ],
   "source": [
    "nums=[5,11,2,53,10,33]\n",
    "m=0\n",
    "for num in nums:\n",
    "    if num>m:\n",
    "        m=num\n",
    "print(m)"
   ]
  },
  {
   "cell_type": "code",
   "execution_count": 27,
   "id": "78c63b35",
   "metadata": {},
   "outputs": [
    {
     "name": "stdout",
     "output_type": "stream",
     "text": [
      "total count=8\n"
     ]
    }
   ],
   "source": [
    "nums=[25,26,27,28,29,30,31,32,33,34,35,36,37,38,39,40,41,42,43,44,45,46,47,48,49,50]\n",
    "count=0\n",
    "for i in nums:\n",
    "    if i%3== 0:\n",
    "      count=count+1\n",
    "print(f\"total count={count}\")"
   ]
  },
  {
   "cell_type": "code",
   "execution_count": 1,
   "id": "f9c6a9a9",
   "metadata": {},
   "outputs": [
    {
     "name": "stdout",
     "output_type": "stream",
     "text": [
      "count 1\n",
      "count 2\n",
      "count 3\n",
      "count 4\n",
      "count 5\n",
      "count 6\n",
      "count 7\n",
      "count 8\n",
      "count 8\n",
      "count 8\n",
      "count 8\n",
      "count 8\n"
     ]
    }
   ],
   "source": [
    "movies=[\"harry potter 1\",\"harry potter 2\",\"harry potter 3\",\"harry potter 4\",\"harry potter 5\",\"harry potter 6\",\"harry potter 7\",\"harry potter 8\",\"fast and furious 1\",\"fast and furious 2\",\"fast and furious 3\",\"fast and furious 4\"]\n",
    "movies_with_h = 0\n",
    "for movie in movies:\n",
    "    if movie.startswith(\"H\")or movie.startswith(\"h\"):\n",
    "        movies_with_h +=1\n",
    "    print(\"count\",movies_with_h)\n"
   ]
  },
  {
   "cell_type": "code",
   "execution_count": 2,
   "id": "00d277c9",
   "metadata": {},
   "outputs": [
    {
     "name": "stdout",
     "output_type": "stream",
     "text": [
      "5\n",
      "4\n",
      "3\n",
      "2\n",
      "1\n"
     ]
    }
   ],
   "source": [
    "num=5\n",
    "for i in range(num,0,-1):\n",
    "    print(i)"
   ]
  },
  {
   "cell_type": "code",
   "execution_count": 6,
   "id": "a360e420",
   "metadata": {},
   "outputs": [
    {
     "name": "stdout",
     "output_type": "stream",
     "text": [
      "362880\n"
     ]
    }
   ],
   "source": [
    "num=9\n",
    "fact= 1\n",
    "for i in range(num,0,-1):\n",
    "    fact = fact*i \n",
    "print(fact)"
   ]
  },
  {
   "cell_type": "code",
   "execution_count": 8,
   "id": "bca4d032",
   "metadata": {},
   "outputs": [
    {
     "name": "stdout",
     "output_type": "stream",
     "text": [
      "9*9\n",
      "8*72\n",
      "7*504\n",
      "6*3024\n",
      "5*15120\n",
      "4*60480\n",
      "3*181440\n",
      "2*362880\n",
      "1*362880\n",
      "362880\n"
     ]
    }
   ],
   "source": [
    "num=9\n",
    "fact= 1\n",
    "for i in range(num,0,-1):\n",
    "    fact = fact*i \n",
    "    print(f'{i}*{fact}')\n",
    "print(fact)"
   ]
  },
  {
   "cell_type": "code",
   "execution_count": 13,
   "id": "8d201b92",
   "metadata": {},
   "outputs": [
    {
     "name": "stdout",
     "output_type": "stream",
     "text": [
      "i = 1 , j = 1\n",
      "i = 1 , j = 2\n",
      "i = 1 , j = 3\n",
      "i = 1 , j = 4\n",
      "i = 1 , j = 5\n",
      "i = 2 , j = 1\n",
      "i = 2 , j = 2\n",
      "i = 2 , j = 3\n",
      "i = 2 , j = 4\n",
      "i = 2 , j = 5\n",
      "i = 3 , j = 1\n",
      "i = 3 , j = 2\n",
      "i = 3 , j = 3\n",
      "i = 3 , j = 4\n",
      "i = 3 , j = 5\n",
      "i = 4 , j = 1\n",
      "i = 4 , j = 2\n",
      "i = 4 , j = 3\n",
      "i = 4 , j = 4\n",
      "i = 4 , j = 5\n",
      "i = 5 , j = 1\n",
      "i = 5 , j = 2\n",
      "i = 5 , j = 3\n",
      "i = 5 , j = 4\n",
      "i = 5 , j = 5\n",
      "i = 6 , j = 1\n",
      "i = 6 , j = 2\n",
      "i = 6 , j = 3\n",
      "i = 6 , j = 4\n",
      "i = 6 , j = 5\n",
      "i = 7 , j = 1\n",
      "i = 7 , j = 2\n",
      "i = 7 , j = 3\n",
      "i = 7 , j = 4\n",
      "i = 7 , j = 5\n",
      "i = 8 , j = 1\n",
      "i = 8 , j = 2\n",
      "i = 8 , j = 3\n",
      "i = 8 , j = 4\n",
      "i = 8 , j = 5\n",
      "i = 9 , j = 1\n",
      "i = 9 , j = 2\n",
      "i = 9 , j = 3\n",
      "i = 9 , j = 4\n",
      "i = 9 , j = 5\n",
      "i = 10 , j = 1\n",
      "i = 10 , j = 2\n",
      "i = 10 , j = 3\n",
      "i = 10 , j = 4\n",
      "i = 10 , j = 5\n"
     ]
    }
   ],
   "source": [
    "for i in range(1,11):\n",
    "    for j in range(1,6):\n",
    "     print(f\"i = {i} , j = {j}\")"
   ]
  },
  {
   "cell_type": "code",
   "execution_count": 15,
   "id": "ca9d7697",
   "metadata": {},
   "outputs": [
    {
     "name": "stdout",
     "output_type": "stream",
     "text": [
      "1 2 3 4 5 \n",
      "1 2 3 4 5 \n",
      "1 2 3 4 5 \n",
      "1 2 3 4 5 \n",
      "1 2 3 4 5 \n"
     ]
    }
   ],
   "source": [
    "n=6\n",
    "for i in range(1,n):\n",
    "    for j in range(1,n):\n",
    "        print(j,end=' ')\n",
    "    print()    "
   ]
  },
  {
   "cell_type": "code",
   "execution_count": 18,
   "id": "2a4f1348",
   "metadata": {},
   "outputs": [
    {
     "name": "stdout",
     "output_type": "stream",
     "text": [
      "1 1 1 1 1 \n",
      "2 2 2 2 2 \n",
      "3 3 3 3 3 \n",
      "4 4 4 4 4 \n",
      "5 5 5 5 5 \n"
     ]
    }
   ],
   "source": [
    "n=6\n",
    "for i in range(1,n):\n",
    "    for j in range(1,n):\n",
    "        print(i,end=' ')\n",
    "    print()    "
   ]
  },
  {
   "cell_type": "code",
   "execution_count": 1,
   "id": "8843da11",
   "metadata": {},
   "outputs": [
    {
     "name": "stdout",
     "output_type": "stream",
     "text": [
      "2\n",
      "5\n",
      "8\n",
      "11\n",
      "15\n",
      "loop completed\n"
     ]
    }
   ],
   "source": [
    "nums=[2,5,8,11,15]\n",
    "for n in nums:\n",
    "    print(n)\n",
    "print(\"loop completed\")    "
   ]
  },
  {
   "cell_type": "code",
   "execution_count": 8,
   "id": "bb8a5a23",
   "metadata": {},
   "outputs": [
    {
     "name": "stdout",
     "output_type": "stream",
     "text": [
      "2\n",
      "5\n",
      "8\n",
      "loop completed\n"
     ]
    }
   ],
   "source": [
    "nums=[2,5,8,11,15]\n",
    "for n in nums:\n",
    "    if n>10:\n",
    "       break\n",
    "    print(n)\n",
    "print(\"loop completed\")   "
   ]
  },
  {
   "cell_type": "code",
   "execution_count": null,
   "id": "b7d43259",
   "metadata": {},
   "outputs": [
    {
     "name": "stdout",
     "output_type": "stream",
     "text": [
      "loop broken\n"
     ]
    }
   ],
   "source": [
    "value=int(input(\"Enter breakpoint\"))\n",
    "nums=[1,2,3,4,5,11,15,20,25]\n",
    "for n in nums:\n",
    "    if value > n:\n",
    "       print(\"loop broken\")\n",
    "       break\n",
    "else:\n",
    "    print(\"loop completed\")\n",
    "    \n",
    "           \n",
    "\n"
   ]
  },
  {
   "cell_type": "code",
   "execution_count": 14,
   "id": "1dec373f",
   "metadata": {},
   "outputs": [
    {
     "name": "stdout",
     "output_type": "stream",
     "text": [
      "loop broken\n",
      "loop broken\n",
      "loop broken\n",
      "loop broken\n",
      "loop broken\n",
      "loop broken\n",
      "loop broken\n",
      "loop broken\n",
      "loop broken\n",
      "loop completed\n"
     ]
    }
   ],
   "source": [
    "value=int(input(\"Enter breakpoint\"))\n",
    "nums=[1,2,3,4,5,11,15,20,25]\n",
    "for n in nums:\n",
    "    if value > n:\n",
    "       print(\"loop broken\")\n",
    "else:\n",
    "    print(\"loop completed\")"
   ]
  },
  {
   "cell_type": "code",
   "execution_count": 25,
   "id": "790e221c",
   "metadata": {},
   "outputs": [],
   "source": [
    "num = int(input(\"enter a number\"))\n",
    "for n in range(2,num):\n",
    "    if num % n==0:\n",
    "        print(f\"{num} not a prime number\")\n",
    "        break"
   ]
  },
  {
   "cell_type": "code",
   "execution_count": 24,
   "id": "907ac216",
   "metadata": {},
   "outputs": [
    {
     "name": "stdout",
     "output_type": "stream",
     "text": [
      "2 is prime number\n"
     ]
    }
   ],
   "source": [
    "num = int(input(\"enter a number\"))\n",
    "for n in range(2,num):\n",
    "    if num % n==0:\n",
    "        print(f\"{num} not a prime number\")\n",
    "        break\n",
    "else:\n",
    "    print(f\"{num} is prime number\")"
   ]
  },
  {
   "cell_type": "code",
   "execution_count": 28,
   "id": "48c8746d",
   "metadata": {},
   "outputs": [
    {
     "name": "stdout",
     "output_type": "stream",
     "text": [
      "50 45 40 35 30 25 20 15 10 5 "
     ]
    }
   ],
   "source": [
    "x=50\n",
    "while x>0:\n",
    "    print(x,end=\" \")\n",
    "    x-=5"
   ]
  },
  {
   "cell_type": "code",
   "execution_count": null,
   "id": "1feddc34",
   "metadata": {},
   "outputs": [],
   "source": []
  }
 ],
 "metadata": {
  "kernelspec": {
   "display_name": "Python 3",
   "language": "python",
   "name": "python3"
  },
  "language_info": {
   "codemirror_mode": {
    "name": "ipython",
    "version": 3
   },
   "file_extension": ".py",
   "mimetype": "text/x-python",
   "name": "python",
   "nbconvert_exporter": "python",
   "pygments_lexer": "ipython3",
   "version": "3.13.6"
  }
 },
 "nbformat": 4,
 "nbformat_minor": 5
}
